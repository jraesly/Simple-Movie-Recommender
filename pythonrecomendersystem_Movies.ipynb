{
 "cells": [
  {
   "cell_type": "code",
   "execution_count": 1,
   "metadata": {},
   "outputs": [
    {
     "name": "stderr",
     "output_type": "stream",
     "text": [
      "[nltk_data] Downloading package punkt to\n",
      "[nltk_data]     C:\\Users\\johnraesly\\AppData\\Roaming\\nltk_data...\n",
      "[nltk_data]   Package punkt is already up-to-date!\n",
      "[nltk_data] Downloading package wordnet to\n",
      "[nltk_data]     C:\\Users\\johnraesly\\AppData\\Roaming\\nltk_data...\n",
      "[nltk_data]   Package wordnet is already up-to-date!\n",
      "[nltk_data] Downloading package stopwords to\n",
      "[nltk_data]     C:\\Users\\johnraesly\\AppData\\Roaming\\nltk_data...\n",
      "[nltk_data]   Package stopwords is already up-to-date!\n"
     ]
    },
    {
     "data": {
      "text/plain": [
       "True"
      ]
     },
     "execution_count": 1,
     "metadata": {},
     "output_type": "execute_result"
    }
   ],
   "source": [
    "import pandas as pd\n",
    "#%pip install sklearn\n",
    "from sklearn.feature_extraction.text import CountVectorizer,TfidfVectorizer\n",
    "from sklearn.metrics.pairwise import cosine_similarity\n",
    "import random\n",
    "\n",
    "# Import necessary modules from the NLTK library for text processing\n",
    "import nltk\n",
    "import re\n",
    "from nltk.corpus import stopwords\n",
    "from nltk.stem import WordNetLemmatizer\n",
    "from nltk.tokenize import word_tokenize\n",
    "\n",
    "# Download NLTK resources for tokenization, lemmatization, and stopwords\n",
    "nltk.download('punkt')\n",
    "nltk.download('wordnet')\n",
    "nltk.download('stopwords')\n"
   ]
  },
  {
   "cell_type": "code",
   "execution_count": 31,
   "metadata": {},
   "outputs": [],
   "source": [
    "# Helper Functions\n",
    "\n",
    "def clean_text(text):\n",
    "    # Return an empty string if text is not a string\n",
    "    if not isinstance(text, str):\n",
    "        return \"\"\n",
    "    # Convert text to lowercase\n",
    "    text = text.lower()\n",
    "    # Remove punctuation while retaining words and digits\n",
    "    text = re.sub(r'[^\\\\w\\\\s\\\\d]', '', text)\n",
    "    # Tokenize the text into words\n",
    "    words = word_tokenize(text)\n",
    "    # Define English stopwords\n",
    "    stop_words = set(stopwords.words('english'))\n",
    "    # Remove stopwords from the tokenized words\n",
    "    words = [word for word in words if word not in stop_words]\n",
    "    # Initialize the WordNet lemmatizer\n",
    "    lemmatizer = WordNetLemmatizer()\n",
    "    # Lemmatize each word\n",
    "    words = [lemmatizer.lemmatize(word) for word in words]\n",
    "    # Join the words back into a single string\n",
    "    text = ' '.join(words)\n",
    "    return text\n",
    "\n",
    "\n",
    "# Define a function to recommend the top 5 similar movies for a given movie title\n",
    "def recommend(movie_title, num_recommendations=5):\n",
    "    # Find the index of the given movie in the DataFrame\n",
    "    try:\n",
    "        index = movies[movies['title'] == movie_title].index[0]\n",
    "    except IndexError:\n",
    "        print(f\"Movie '{movie_title}' not found in the dataset.\")\n",
    "        return\n",
    "    \n",
    "    # Calculate similarity scores, sort them, and get titles of the top similar movies\n",
    "    distance = sorted(list(enumerate(similarity[index])), reverse=True, key=lambda vector: vector[1])\n",
    "    \n",
    "    # Introduce randomness by shuffling the recommendations before selecting the top ones\n",
    "    recommendations = distance[1:num_recommendations + 1]\n",
    "    random.shuffle(recommendations)\n",
    "    \n",
    "    for i in recommendations:\n",
    "        print(movies.iloc[i[0]].title + \" : \" + movies.iloc[i[0]].genre)"
   ]
  },
  {
   "cell_type": "code",
   "execution_count": 11,
   "metadata": {},
   "outputs": [],
   "source": [
    "# import dataset\n",
    "movies = pd.read_csv('C:/Users/johnraesly/Downloads/movies/top10K-TMDB-movies.csv')"
   ]
  },
  {
   "cell_type": "code",
   "execution_count": null,
   "metadata": {},
   "outputs": [],
   "source": [
    "print(movies.head(20))"
   ]
  },
  {
   "cell_type": "code",
   "execution_count": 12,
   "metadata": {},
   "outputs": [
    {
     "name": "stdout",
     "output_type": "stream",
     "text": [
      "Index(['id', 'title', 'genre', 'original_language', 'overview', 'popularity',\n",
      "       'release_date', 'vote_average', 'vote_count'],\n",
      "      dtype='object')\n"
     ]
    }
   ],
   "source": [
    "print(movies.columns)"
   ]
  },
  {
   "cell_type": "code",
   "execution_count": 4,
   "metadata": {},
   "outputs": [],
   "source": [
    "movies = movies[['id', 'title', 'overview', 'genre']]\n"
   ]
  },
  {
   "cell_type": "code",
   "execution_count": 13,
   "metadata": {},
   "outputs": [],
   "source": [
    "movies['tags'] = movies['overview'] + movies['genre']"
   ]
  },
  {
   "cell_type": "code",
   "execution_count": 14,
   "metadata": {},
   "outputs": [],
   "source": [
    "new_data = movies.drop(columns=['overview'])\n"
   ]
  },
  {
   "cell_type": "code",
   "execution_count": 7,
   "metadata": {},
   "outputs": [
    {
     "name": "stdout",
     "output_type": "stream",
     "text": [
      "      id                        title  \\\n",
      "0    278     The Shawshank Redemption   \n",
      "1  19404  Dilwale Dulhania Le Jayenge   \n",
      "2    238                The Godfather   \n",
      "3    424             Schindler's List   \n",
      "4    240       The Godfather: Part II   \n",
      "\n",
      "                                            overview                 genre  \\\n",
      "0  Framed in the 1940s for the double murder of h...           Drama,Crime   \n",
      "1  Raj is a rich, carefree, happy-go-lucky second...  Comedy,Drama,Romance   \n",
      "2  Spanning the years 1945 to 1955, a chronicle o...           Drama,Crime   \n",
      "3  The true story of how businessman Oskar Schind...     Drama,History,War   \n",
      "4  In the continuing saga of the Corleone crime f...           Drama,Crime   \n",
      "\n",
      "                                                tags  \n",
      "0  Framed in the 1940s for the double murder of h...  \n",
      "1  Raj is a rich, carefree, happy-go-lucky second...  \n",
      "2  Spanning the years 1945 to 1955, a chronicle o...  \n",
      "3  The true story of how businessman Oskar Schind...  \n",
      "4  In the continuing saga of the Corleone crime f...  \n"
     ]
    }
   ],
   "source": [
    "print(movies[0:5])"
   ]
  },
  {
   "cell_type": "code",
   "execution_count": 18,
   "metadata": {},
   "outputs": [],
   "source": [
    "movies['tags'] = movies['tags'].fillna('')\n",
    "\n",
    "# Apply the clean_text function to the 'tags' column of 'new_data' and store the result in 'tags_clean'\n",
    "movies['tags_clean'] = movies['tags'].apply(clean_text)"
   ]
  },
  {
   "cell_type": "code",
   "execution_count": 22,
   "metadata": {},
   "outputs": [],
   "source": [
    "movies['tags_clean'] = movies['tags_clean'].fillna('')\n",
    "movies['vote_average'] = movies['vote_average'].fillna(0)\n",
    "movies['vote_count'] = movies['vote_count'].fillna(0)\n",
    "movies['genre'] = movies['genre'].fillna('')\n",
    "movies['combined_features'] = ( movies['tags_clean'] + ' '+ movies['genre'] + ' ' + movies['vote_average'].astype(str) + ' ' + movies['vote_count'].astype(str) )"
   ]
  },
  {
   "cell_type": "code",
   "execution_count": 23,
   "metadata": {},
   "outputs": [],
   "source": [
    "# Initialize CountVectorizer\n",
    "cv = CountVectorizer(max_features=5000, stop_words='english')\n",
    "\n",
    "# Vectorize the cleaned 'tags' text\n",
    "vectorized_data = cv.fit_transform(movies['combined_features']).toarray()"
   ]
  },
  {
   "cell_type": "code",
   "execution_count": 24,
   "metadata": {},
   "outputs": [],
   "source": [
    "tfidf = TfidfVectorizer(max_features=10000, stop_words='english')\n",
    "vectorized_data_tdif = tfidf.fit_transform(movies['tags_clean']).toarray()\n",
    "similarity_tdif = cosine_similarity(vectorized_data)"
   ]
  },
  {
   "cell_type": "code",
   "execution_count": 35,
   "metadata": {},
   "outputs": [
    {
     "name": "stdout",
     "output_type": "stream",
     "text": [
      "The Shawshank Redemption : Drama,Crime\n",
      "To Kill a Mockingbird : Crime,Drama\n",
      "Requiem for a Dream : Crime,Drama\n",
      "Taxi Driver : Crime,Drama\n",
      "The Godfather: Part II : Drama,Crime\n"
     ]
    }
   ],
   "source": [
    "recommend('The Godfather')"
   ]
  },
  {
   "cell_type": "code",
   "execution_count": 30,
   "metadata": {},
   "outputs": [],
   "source": [
    "similarity = cosine_similarity(vectorized_data)\n"
   ]
  },
  {
   "cell_type": "code",
   "execution_count": null,
   "metadata": {},
   "outputs": [],
   "source": [
    "# Calculate similarity scores for the third movie with all other movies, sort them, and store the result\n",
    "distance = sorted(list(enumerate(similarity[4])), reverse=True, key=lambda vector: vector[1])\n",
    "\n",
    "# Print the titles of the first five movies most similar to the third movie\n",
    "for i in distance[0:10]:\n",
    "    print(new_data.iloc[i[0]].title)"
   ]
  },
  {
   "cell_type": "code",
   "execution_count": null,
   "metadata": {},
   "outputs": [],
   "source": [
    "# Define a function to recommend the top 5 similar movies for a given movie title\n",
    "def recommend(movies):\n",
    "    # Find the index of the given movie in the DataFrame\n",
    "    index = new_data[new_data['title'] == movies].index[0]\n",
    "    # Calculate similarity scores, sort them, and print titles of the top 5 similar movies\n",
    "    distance = sorted(list(enumerate(similarity[index])), reverse=True, key=lambda vector: vector[1])\n",
    "    for i in distance[1:6]:  # start from 1 to skip the movie itself\n",
    "        print(new_data.iloc[i[0]].title)\n",
    "\n"
   ]
  },
  {
   "cell_type": "code",
   "execution_count": null,
   "metadata": {},
   "outputs": [],
   "source": [
    "# find if the Notebook movie is in the dataset\n",
    "print(new_data[new_data['title'] == 'The Notebook'])"
   ]
  },
  {
   "cell_type": "code",
   "execution_count": null,
   "metadata": {},
   "outputs": [],
   "source": [
    "# Example usage\n",
    "recommend(\"Dilwale Dulhania Le Jayenge\")"
   ]
  }
 ],
 "metadata": {
  "kernelspec": {
   "display_name": "base",
   "language": "python",
   "name": "python3"
  },
  "language_info": {
   "codemirror_mode": {
    "name": "ipython",
    "version": 3
   },
   "file_extension": ".py",
   "mimetype": "text/x-python",
   "name": "python",
   "nbconvert_exporter": "python",
   "pygments_lexer": "ipython3",
   "version": "3.11.7"
  }
 },
 "nbformat": 4,
 "nbformat_minor": 2
}
